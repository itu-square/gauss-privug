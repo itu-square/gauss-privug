{
 "cells": [
  {
   "cell_type": "code",
   "execution_count": null,
   "id": "eb9bc25e-387f-4a38-aaac-d44b2339a950",
   "metadata": {},
   "outputs": [],
   "source": [
    "#general imports\n",
    "import numpy as np\n",
    "import arviz as az\n",
    "from matplotlib import pyplot as plt\n",
    "from typing import List\n",
    "import os, sys\n",
    "import time\n",
    "import pandas as pd\n",
    "import scipy.stats as stats\n",
    "#imports for privug (exact inference engine)\n",
    "import src as exact_inference\n",
    "#imports for privug (mcmc inference)\n",
    "#only needed because I use a local version of the library. Not needed if installed via pip\n",
    "#sys.path.append(os.path.join(\"../work/privugger\")) # <-- if no local version install via pip and remove line \n",
    "#import privugger as pv"
   ]
  },
  {
   "cell_type": "code",
   "execution_count": null,
   "id": "00ba15a1-7cbc-4691-a2f7-ab4723d0abaf",
   "metadata": {},
   "outputs": [],
   "source": [
    "start_time = time.time()\n",
    "program: List[exact_inference.Statement] = exact_inference.parse(\"eval_scale.py\")\n",
    "posterior_marginal: exact_inference.distribution = exact_inference.evaluate(program)\n",
    "print(\"--- %s seconds ---\" % (time.time() - start_time))"
   ]
  },
  {
   "cell_type": "code",
   "execution_count": null,
   "id": "db16c570-9cf4-4ae1-a452-35c7e90a5ec9",
   "metadata": {},
   "outputs": [],
   "source": [
    "############################# \n",
    "#######  DP Example \n",
    "#######################"
   ]
  },
  {
   "cell_type": "code",
   "execution_count": null,
   "id": "f0fc4339-a3bd-4a1b-9fb8-e931e97afe01",
   "metadata": {},
   "outputs": [],
   "source": [
    "program: List[exact_inference.Statement] = exact_inference.parse(\"eval_dp.py\")"
   ]
  },
  {
   "cell_type": "code",
   "execution_count": null,
   "id": "5a34b273-df48-42e1-8886-25c33f666f2c",
   "metadata": {},
   "outputs": [],
   "source": [
    "posterior_marginal: exact_inference.distribution = exact_inference.evaluate(program)"
   ]
  },
  {
   "cell_type": "code",
   "execution_count": null,
   "id": "c9d60320-891c-4177-ae8a-0b44279d62f1",
   "metadata": {},
   "outputs": [],
   "source": [
    "posterior_marginal[1]"
   ]
  },
  {
   "cell_type": "code",
   "execution_count": null,
   "id": "fcc36c19-660f-419e-8d9a-a545aeae7333",
   "metadata": {},
   "outputs": [],
   "source": [
    "program: List[exact_inference.Statement] = exact_inference.parse(\"eval2_dp.py\")"
   ]
  },
  {
   "cell_type": "code",
   "execution_count": null,
   "id": "160ca363-50a1-4ba5-b36e-1a4e4c3aeffd",
   "metadata": {},
   "outputs": [],
   "source": [
    "posterior_marginal: exact_inference.distribution = exact_inference.evaluate(program)"
   ]
  },
  {
   "cell_type": "code",
   "execution_count": null,
   "id": "08b18383-f22f-4898-87d2-c54c075cd742",
   "metadata": {},
   "outputs": [],
   "source": [
    "posterior_marginal[1]"
   ]
  },
  {
   "cell_type": "code",
   "execution_count": null,
   "id": "cf8d5431-dcd4-4d2e-a2a9-80d87e427d86",
   "metadata": {},
   "outputs": [],
   "source": [
    "program: List[exact_inference.Statement] = exact_inference.parse(\"eval3_dp.py\")"
   ]
  },
  {
   "cell_type": "code",
   "execution_count": null,
   "id": "266da5e5-2508-474e-917c-0f6978e01523",
   "metadata": {},
   "outputs": [],
   "source": [
    "posterior_marginal: exact_inference.distribution = exact_inference.evaluate(program)"
   ]
  },
  {
   "cell_type": "code",
   "execution_count": null,
   "id": "af02cf76-ecfd-4afa-8ff8-fc337945a78a",
   "metadata": {},
   "outputs": [],
   "source": [
    "posterior_marginal"
   ]
  },
  {
   "cell_type": "code",
   "execution_count": null,
   "id": "d6088a7a-cc2a-4373-8a08-e203d16e75ed",
   "metadata": {},
   "outputs": [],
   "source": []
  },
  {
   "cell_type": "code",
   "execution_count": null,
   "id": "7628dd64-0e7b-4f54-8fa8-7c6edb57d138",
   "metadata": {},
   "outputs": [],
   "source": [
    "#\n",
    "#          Data income in DKK pr. year in total\n",
    "#  \n",
    "#               21-30           31-40          41-50          51-60     Total Row\n",
    "#              ---------------------------------------------------------------------\n",
    "#  Male       | 980_000       960_000        64    1_380_000    4_460_000\n",
    "#  Female     | 880_000       950_000        930_000       1_370_000    4_130_000    \n",
    "#  Total Col  | 1_860_000     1_910_000      2_070_000     2_750_000    8_590_000\n",
    "#\n",
    "#\n",
    "# The real database\n",
    "# Male_21-30 = [500_000, 480_000, 460_000, 430_000, 490_000, 510_000, 440_000, 480_000, 520_000, 410_000 ]  472_000 (v)\n",
    "# Male_31-40 = [550_000, 410_000, 490_000, 580_000, 530_000, 420_000, 590_000, 400_000, 680_000, 510_000]  516_000 (v)\n",
    "# Male_41-50 = [600_000, 540_000, 640_000, 590_000, 580_000, 620_000, 340_000, 510_000, 620_000, 660_000]  570_000 (v)\n",
    "# Male_51-60 = [700_000, 680_000, 740_000, 640_000, 590_000, 650_000, 770_000, 630_000, 540_000, 840_000]  678_000 (v)\n",
    "# \n",
    "# Female_21-30 = [470_000, 410_000, 420_000, 450_000, 460_000, 410_000, 510_000, 310_000, 370_000, 440_000]  425_000 (v)\n",
    "# Female_31-40 = [450_000, 500_000, 520_000, 530_000, 510_000, 600_000, 620_000, 390_000, 550_000, 390_000]  506_000 (v)\n",
    "# Female_41-50 = [590_000, 640_000, 540_000, 580_000, 740_000, 540_000, 140_000, 830_000, 540_000, 740_000]  588_000 (v)\n",
    "# Female_51-60 = [690_000, 680_000, 720_000, 780_000, 680_000, 580_000, 590_000, 730_000, 640_000, 980_000]  707_000 (v)\n",
    "#\n",
    "# average_21-30 =  448_500\n",
    "# average_31-40 =  511_000\n",
    "# average_41-50 =  579_000\n",
    "# average_51-60 =  692_500\n",
    "#\n",
    "#\n",
    "\n",
    "#\n",
    "#\n",
    "#                  Males                 Females\n",
    "#---------------------------------------------------\n",
    "#                  m1 m2         |          f1 f2\n",
    "#                  m3 m4         |          f3 f4\n",
    "#   21 - 30        m5 m6         |          f5 f6\n",
    "#                  m7 m8         |          f7 f8\n",
    "#                  m9 m10        |          f9 f10\n",
    "# ----------------------------------------------------\n",
    "#                  m1 m2         |          f1 f2\n",
    "#                  m3 m4         |          f3 f4\n",
    "#   31 - 40        m5 m6         |          f5 f6\n",
    "#                  m7 m8         |          f7 f8\n",
    "#                  m9 m10        |          f9 f10\n",
    "# ----------------------------------------------------\n",
    "#                  m1 m2         |          f1 f2\n",
    "#                  m3 m4         |          f3 f4\n",
    "#   41 - 50        m5 m6         |          f5 f6\n",
    "#                  m7 m8         |          f7 f8\n",
    "#                  m9 m10        |          f9 f10\n",
    "# ----------------------------------------------------\n",
    "#                  m1 m2         |          f1 f2\n",
    "#                  m3 m4         |          f3 f4\n",
    "#   51 - 60        m5 m6         |          f5 f6\n",
    "#                  m7 m8         |          f7 f8\n",
    "#                  m9 m10        |          f9 f10\n",
    "# ----------------------------------------------------\n",
    "#"
   ]
  },
  {
   "cell_type": "code",
   "execution_count": null,
   "id": "370694cb-f1f0-49fc-b70f-fd8b346bcbbc",
   "metadata": {},
   "outputs": [],
   "source": [
    "program: List[exact_inference.Statement] = exact_inference.parse(\"eval.py\")"
   ]
  },
  {
   "cell_type": "code",
   "execution_count": null,
   "id": "e1afb0f2-9593-4d81-8261-16c67e231aca",
   "metadata": {},
   "outputs": [],
   "source": [
    "posterior_marginal: exact_inference.distribution = exact_inference.evaluate(program)"
   ]
  },
  {
   "cell_type": "code",
   "execution_count": null,
   "id": "05f749ad-1361-4f01-adf2-4896746b0c90",
   "metadata": {},
   "outputs": [],
   "source": [
    "posterior_marginal"
   ]
  },
  {
   "cell_type": "code",
   "execution_count": null,
   "id": "8567017e-d261-4dd2-985f-828517e3ec0d",
   "metadata": {},
   "outputs": [],
   "source": [
    "# mutual information gaussians: https://stats.stackexchange.com/questions/438607/mutual-information-between-subsets-of-variables-in-the-multivariate-normal-distr\n",
    "E = np.array([ [100, 1 ], [ 1, 12 ] ])\n",
    "E_dp = np.array([ [ 100, 1 ], [ 1, 1442533250] ])\n",
    "\n",
    "def mutual_information(E):\n",
    "    return 0.5 * np.log((E[0][0] * E[1][1] ) /  np.linalg.det(E))\n",
    "I = mutual_information(E)"
   ]
  },
  {
   "cell_type": "code",
   "execution_count": null,
   "id": "7f395980-3f79-4791-bccd-9d77a37af22c",
   "metadata": {},
   "outputs": [],
   "source": []
  },
  {
   "cell_type": "code",
   "execution_count": null,
   "id": "fec511b6-f65b-4842-a2b4-616446fe80f3",
   "metadata": {},
   "outputs": [],
   "source": [
    "program: List[exact_inference.Statement] = exact_inference.parse(\"eval2.py\")"
   ]
  },
  {
   "cell_type": "code",
   "execution_count": null,
   "id": "f61513b2-86a8-4406-bc3f-1d2ddea9976c",
   "metadata": {
    "tags": []
   },
   "outputs": [],
   "source": [
    "posterior_marginal: exact_inference.distribution = exact_inference.evaluate(program)"
   ]
  },
  {
   "cell_type": "code",
   "execution_count": null,
   "id": "181a4359-f22a-4d3b-b0d8-37842ce5c89e",
   "metadata": {},
   "outputs": [],
   "source": [
    "posterior_marginal"
   ]
  },
  {
   "cell_type": "code",
   "execution_count": null,
   "id": "856b4f43-ea6e-4046-8637-0b7142dc23f5",
   "metadata": {},
   "outputs": [],
   "source": [
    "# mutual information gaussians: https://stats.stackexchange.com/questions/438607/mutual-information-between-subsets-of-variables-in-the-multivariate-normal-distr\n",
    "# I(posterior_secret_income, output_total_21)\n",
    "#EXAMPLE 2\n",
    "E = np.array([ [ 99.91666667, 0.24979167 ], [ 0.24979167,  4.99583333 ] ])\n",
    "\n",
    "E_dp = np.array([ [ 99.99431764, 0.25 ], [ 0.25, 1442533240] ])\n",
    "\n",
    "def mutual_information(E):\n",
    "    return 0.5 * np.log((E[0][0] * E[1][1] ) /  np.linalg.det(E))\n",
    "I = mutual_information(E)"
   ]
  },
  {
   "cell_type": "code",
   "execution_count": null,
   "id": "ef413647-ef0d-4952-9324-d7685cfe6426",
   "metadata": {},
   "outputs": [],
   "source": []
  },
  {
   "cell_type": "code",
   "execution_count": null,
   "id": "b82503f5-605d-43fd-85c7-9cd7f9732031",
   "metadata": {},
   "outputs": [],
   "source": [
    "program: List[exact_inference.Statement] = exact_inference.parse(\"eval3.py\")"
   ]
  },
  {
   "cell_type": "code",
   "execution_count": null,
   "id": "5f45f3d9-19dd-4839-b922-9ba72c2027c3",
   "metadata": {},
   "outputs": [],
   "source": [
    "posterior_marginal: exact_inference.distribution = exact_inference.evaluate(program)"
   ]
  },
  {
   "cell_type": "code",
   "execution_count": null,
   "id": "b0ee29f1-2b2c-4e25-8934-02dafd4594f5",
   "metadata": {},
   "outputs": [],
   "source": [
    "posterior_marginal"
   ]
  },
  {
   "cell_type": "code",
   "execution_count": null,
   "id": "3f7017a5-fadc-4ecd-8d6d-33c9dbae00dd",
   "metadata": {},
   "outputs": [],
   "source": [
    "# mutual information gaussians: https://stats.stackexchange.com/questions/438607/mutual-information-between-subsets-of-variables-in-the-multivariate-normal-distr\n",
    "# I(posterior_secret_income, output_total_male)\n",
    "#EXAMPLE 3\n",
    "E = np.array([ [ 99.90261623, 0.0624401107 ], [  0.0624401107,  2.49783861 ] ])\n",
    "\n",
    "E_dp = np.array([ [ 100, 0.625 ], [ 0.625, 1442533240] ])\n",
    "\n",
    "def mutual_information(E):\n",
    "    return 0.5 * np.log((E[0][0] * E[1][1] ) /  np.linalg.det(E))\n",
    "I = mutual_information(E)"
   ]
  },
  {
   "cell_type": "code",
   "execution_count": null,
   "id": "5f2c01d6-78cc-4f7a-8991-70669f764241",
   "metadata": {},
   "outputs": [],
   "source": []
  },
  {
   "cell_type": "code",
   "execution_count": null,
   "id": "d8ec823d-6116-4d1f-a993-069342ebf60a",
   "metadata": {},
   "outputs": [],
   "source": [
    "scale_factor = 10\n",
    "prior_mu = 480_000 / scale_factor\n",
    "mu_1     = 482_500 / scale_factor\n",
    "mu_2     = 483_750 / scale_factor\n",
    "mu_3     = 489_000 / scale_factor\n",
    "sigma    = 100 \n",
    "fig, axs = plt.subplots(2, 2)\n",
    "#fig.suptitle('Risk analysis', fontsize=12)\n",
    "prior_x = np.linspace(prior_mu-3*sigma, int(505_000 / scale_factor), int(1000 / scale_factor))\n",
    "x_1 = np.linspace(prior_mu-3*sigma, int(505_000 / scale_factor), int(1000/  scale_factor))\n",
    "x_2 = np.linspace(prior_mu-3*sigma, int(505_000 / scale_factor), int(1000 / scale_factor))\n",
    "x_3 = np.linspace(prior_mu-3*sigma, int(505_000 / scale_factor), int(1000 / scale_factor))\n",
    "\n",
    "axs[0,0].plot(prior_x, stats.norm.pdf(prior_x, prior_mu , 100), label='Prior')\n",
    "axs[0,0].axvline(x = 500_000 / scale_factor, color = 'orange', label= 'True income')\n",
    "axs[0,1].plot(x_1, stats.norm.pdf(x_1, mu_1 , 75),  label='Ex 1')\n",
    "axs[0,1].axvline(x = 500_000 / scale_factor, color = 'orange', label= 'True income')\n",
    "axs[1,0].plot(x_2, stats.norm.pdf(x_2, mu_2 , 56.25),  label='Ex 2')\n",
    "axs[1,0].axvline(x = 500_000 / scale_factor, color = 'orange', label= 'True income')\n",
    "axs[1,1].plot(x_3, stats.norm.pdf(x_3, mu_3 , 50.625), label='Ex 3')\n",
    "axs[1,1].axvline(x = 500_000 / scale_factor, color = 'orange', label= 'True income')\n",
    "axs[0,0].legend(loc='upper right', prop = { \"size\": 7 })\n",
    "axs[0,1].legend(loc='upper right', prop = { \"size\": 7 })\n",
    "axs[1,0].legend(loc='upper right', prop = { \"size\": 7 })\n",
    "axs[1,1].legend(loc='upper right', prop = { \"size\": 7 })\n",
    "#fig.legend(handles, labels, loc='center right', ncol=2)\n",
    "#fig.tight_layout()\n",
    "for ax in axs.flat:\n",
    "    ax.set(xlabel='Incomes', ylabel='Density')\n",
    "    \n",
    "for ax in fig.get_axes():\n",
    "    ax.label_outer()\n",
    "    ax.set_xticklabels(ax.get_xticklabels(), rotation=0)\n",
    "\n",
    "plt.savefig('risk_scaled.pdf')"
   ]
  },
  {
   "cell_type": "code",
   "execution_count": null,
   "id": "38e14425-2930-447e-b97e-99212c1241a7",
   "metadata": {},
   "outputs": [],
   "source": []
  },
  {
   "cell_type": "code",
   "execution_count": null,
   "id": "5f52904a-d530-4fe0-8e3e-0585cff20976",
   "metadata": {},
   "outputs": [],
   "source": [
    "posterior_marginal"
   ]
  },
  {
   "cell_type": "code",
   "execution_count": null,
   "id": "a3ccc142-aa01-47ad-8a01-4ff13bffd5e6",
   "metadata": {},
   "outputs": [],
   "source": []
  },
  {
   "cell_type": "code",
   "execution_count": null,
   "id": "0c557618-0bb7-4d8d-801a-eead6ad99cfb",
   "metadata": {},
   "outputs": [],
   "source": [
    "scale_factor = 10\n",
    "prior_mu = 480_000/ scale_factor\n",
    "mu_1     = 480250 / scale_factor\n",
    "mu_2     = 480850.625 / scale_factor\n",
    "mu_3     = 481694.70861768466 / scale_factor\n",
    "\n",
    "prior_mu = 480_000/ scale_factor\n",
    "dp_mu_1     = 480000.0000020797 / scale_factor\n",
    "dp_mu_2     = 480134.3914719735 / scale_factor\n",
    "dp_mu_3     = 480388.4019543303 / scale_factor\n",
    "\n",
    "sigma    = 100 \n",
    "fig, axs = plt.subplots(1, 2,figsize=(10, 3))\n",
    "#fig.suptitle('Risk analysis', fontsize=12)\n",
    "prior_x = np.linspace(prior_mu-3*sigma, int(505_000 / scale_factor), int(1000 / scale_factor))\n",
    "x_1 = np.linspace(prior_mu-3*sigma, int(505_000 / scale_factor), int(1000/  scale_factor))\n",
    "x_2 = np.linspace(prior_mu-3*sigma, int(505_000 / scale_factor), int(1000 / scale_factor))\n",
    "x_3 = np.linspace(prior_mu-3*sigma, int(505_000 / scale_factor), int(1000 / scale_factor))\n",
    "\n",
    "axs[0].plot(prior_x, stats.norm.pdf(prior_x, prior_mu , 100), label='Prior')\n",
    "#plt.axvline(x = 500_000 / scale_factor, color = 'orange', label= 'True income')\n",
    "axs[0].plot(x_1, stats.norm.pdf(x_1, mu_1 , 99.91666666666667),  label='Case 1')\n",
    "axs[0].plot(x_2, stats.norm.pdf(x_2, mu_2 , 99.90417708333334),  label='Case 2')\n",
    "#plt.axvline(x = 500_000 / scale_factor, color = 'orange', label= 'True income')\n",
    "axs[0].plot(x_3, stats.norm.pdf(x_3, mu_3 , 99.90261622691499), label='Case 3')\n",
    "axs[0].axvline(x = 500_000 / scale_factor, color = 'purple', label= 'True income')\n",
    "\n",
    "#plt.axvline(x = 500_000 / scale_factor, color = 'orange', label= 'True income')\n",
    "axs[0].legend(loc='upper center', prop = { \"size\": 9 })\n",
    "\n",
    "axs[1].plot(prior_x, stats.norm.pdf(prior_x, prior_mu , 100), label='Prior')\n",
    "#plt.axvline(x = 500_000 / scale_factor, color = 'orange', label= 'True income')\n",
    "axs[1].plot(x_1, stats.norm.pdf(x_1, dp_mu_1 , 99.99999999930678),  label='Case 1 (DP)')\n",
    "axs[1].plot(x_2, stats.norm.pdf(x_2, dp_mu_2 , 99.99632307811551),  label='Case 2 (DP)')\n",
    "#plt.axvline(x = 500_000 / scale_factor, color = 'orange', label= 'True income')\n",
    "axs[1].plot(x_3, stats.norm.pdf(x_3, dp_mu_3 ,99.99567497788624), label='Case 3 (DP)')\n",
    "axs[1].axvline(x = 500_000 / scale_factor, color = 'purple', label= 'True income')\n",
    "\n",
    "#plt.axvline(x = 500_000 / scale_factor, color = 'orange', label= 'True income')\n",
    "axs[1].legend(loc='upper center', prop = { \"size\": 9 })\n",
    "\n",
    "#plt.legend(loc='upper right', prop = { \"size\": 7 })\n",
    "#plt.legend(loc='upper right', prop = { \"size\": 7 })\n",
    "#plt.legend(loc='upper right', prop = { \"size\": 7 })\n",
    "#fig.legend(handles, labels, loc='center right', ncol=2)\n",
    "#fig.tight_layout()\n",
    "for ax in axs.flat:\n",
    "    ax.set(xlabel='Income', ylabel='Density')\n",
    "    \n",
    "for ax in fig.get_axes():\n",
    "    ax.label_outer()\n",
    "    ax.set_xticklabels(ax.get_xticklabels(), rotation=0)\n",
    "\n",
    "fig.tight_layout()\n",
    "\n",
    "plt.show()"
   ]
  },
  {
   "cell_type": "code",
   "execution_count": null,
   "id": "da2c5b1a-5f39-4d88-85d6-323d44c0471d",
   "metadata": {},
   "outputs": [],
   "source": []
  },
  {
   "cell_type": "code",
   "execution_count": null,
   "id": "c431fb86-4ef7-406f-bf69-b311f867b5e0",
   "metadata": {},
   "outputs": [],
   "source": []
  },
  {
   "cell_type": "code",
   "execution_count": null,
   "id": "26dae048-cfd1-44a8-bf90-db110bf6ba1c",
   "metadata": {},
   "outputs": [],
   "source": [
    "# All experiments done on the following machine\n",
    "# 16gb RAM\n",
    "# 11th gen intel i7-1165G7 2.80GHz CPU withc 4 cores\n",
    "#\n",
    "# Collected data about running times\n",
    "# Our work \n",
    "# num random variables | seconds \n",
    "#  100                   0.005812883377075195\n",
    "#  200                   0.0071086883544921875\n",
    "#  300                   0.015390872955322266\n",
    "#  400                   0.0285489559173584\n",
    "#  500                   0.030214548110961914\n",
    "#  600                   0.044518470764160156\n",
    "#  700                   0,04790234565734863\n",
    "#  1000                  0.09842801094055176\n",
    "#  5000                  2.058042049407959\n",
    "#  10000                 8.29687786102295\n",
    "#  15000                 18.850814819335938\n",
    "#  20000                 34.04224109649658\n",
    "#  50000                 \n",
    "\n",
    "\n",
    "# Our work (with conditions)\n",
    "# num random variables | seconds \n",
    "#  100                    0.1406097412109375           \n",
    "#  200                    0.2829735279083252      \n",
    "#  300                    0.7792041301727295\n",
    "#  400                    1.5437796115875244\n",
    "#  500                    2.734630584716797\n",
    "#  600                    4.85797905921936\n",
    "#  700                    6.360910654067993              \n",
    "#  1000                   17.319193363189697\n",
    "#  2000                   127.02894616127014\n",
    "#  2500                   272.4656386375427\n",
    "#  3000                   391.02126955986023\n",
    "#  4000                   969.1922869682312\n",
    "#  5000                   2137.014060020447\n",
    "\n",
    "\n",
    "#psi \n",
    "# num random variables | time \n",
    "#  100                    8.890\n",
    "#  200                    1m4.490 = 64.49 seconds\n",
    "#  300                    3m17.989s = 197.989 seconds\n",
    "#  400                    7m38.021s = 458.021 seconds\n",
    "#  500                    16m1.081s = 961.081\n",
    "#  600                    27m28.574s = 1.648,574\n",
    "#  700                    39m22.254s = 2.363,254\n",
    "#  1000                   - \n",
    "#\n",
    "#\n",
    "# pymc3 \n",
    "# num random variables | time \n",
    "#  100                    80\n",
    "#  200                    128\n",
    "#  300                    180\n",
    "#  400                    225\n",
    "#  500                    291 \n",
    "#  600                    334 \n",
    "#  700                    397 \n",
    "#  1000                   - "
   ]
  },
  {
   "cell_type": "code",
   "execution_count": null,
   "id": "ab44d697-d343-4df3-8907-899bf09d4cda",
   "metadata": {},
   "outputs": [],
   "source": [
    "# PLOTTING for scalability "
   ]
  },
  {
   "cell_type": "code",
   "execution_count": null,
   "id": "21f9bb0f-b99d-4ca3-bb2e-efd94df17f82",
   "metadata": {},
   "outputs": [],
   "source": [
    "x = np.array([100, 200, 300, 400, 500, 600, 700])\n",
    "y_ei = np.array([0.005812883377075195,  0.0071086883544921875,  0.015390872955322266,\n",
    "                 0.0285489559173584,  0.030214548110961914,  0.044518470764160156,\n",
    "                0.04790234565734863])\n",
    "\n",
    "y_psi = np.array([8, 64, 197,  458, 961, 1_648, 2_363])\n",
    "\n",
    "pymc3 = np.array([80, 128, 180, 225 , 291, 334, 397 ])"
   ]
  },
  {
   "cell_type": "code",
   "execution_count": null,
   "id": "1cc21698-e141-4552-91df-ac44f0db415c",
   "metadata": {},
   "outputs": [],
   "source": [
    "\n",
    "fig, axs = plt.subplots(1, 3, figsize=(15,4))\n",
    "\n",
    "\n",
    "#### PlOT FOR PRIVUG EXACT CONDITION\n",
    "x_cond = np.array([100, 200, 300, 400, 500, 600, 700, 1000,2000, 2500, 3000,4000, 5000])\n",
    "y_cond = np.array([0.1406097412109375, 0.2829735279083252, 0.7792041301727295, 1.5437796115875244, 2.734630584716797,\n",
    "                   4.85797905921936, 6.360910654067993, 17.319193363189697, 127.02894616127014, 272.4656386375427, 391.02126955986023,969.1922869682312, 2137.014060020447])\n",
    "\n",
    "\n",
    "axs[2].plot(x_cond, y_cond, 'o', label='Privug exact condition')\n",
    "#a1, b1, c1 = np.polyfit(x_1, y_ei_1, 2)\n",
    "#axs[1].plot(x_1,  a1*x_1**2+b1*x_1+c1, color='tab:blue', label='Regression line Privug exact')\n",
    "axs[2].legend()\n",
    "\n",
    "\n",
    "\n",
    "#### PLOT FOR PRIVUG EXACT\n",
    "x_1 = np.array([100, 200,  500, 600, 700, 1000, 5000, 10_000, 15_000, 20_000,30_000, 40_000, 50_000, 70_000])\n",
    "y_ei_1 = np.array([0.005812883377075195,  0.0071086883544921875, \n",
    "                   0.030214548110961914,  0.044518470764160156,\n",
    "                   0.04790234565734863, 0.09842801094055176, 2.058042049407959,8.29687786102295, \n",
    "                   18.850814819335938, 34.04224109649658, 88.0208477973938, 161.30226397514343,\n",
    "                   265.0496771335602, 478.11110067367554 ])\n",
    "\n",
    "\n",
    "axs[1].plot(x_1, y_ei_1, 'o', label='Privug exact')\n",
    "a1, b1, c1 = np.polyfit(x_1, y_ei_1, 2)\n",
    "#axs[1].plot(x_1,  a1*x_1**2+b1*x_1+c1, color='tab:blue', label='Regression line Privug exact')\n",
    "axs[1].legend()\n",
    "\n",
    "\n",
    "##PLOT FOR COMPARISON\n",
    "axs[0].plot(x, y_ei, 'o', label='Privug exact')\n",
    "axs[0].plot(x, y_psi, 'o',  label='PSI')\n",
    "axs[0].plot(x, pymc3, 'o',  label='Privug MCMC')\n",
    "\n",
    "#axs[0].xlabel(\"Number of Variables\")\n",
    "#axs[0].ylabel(\"Seconds\")\n",
    "m, b = np.polyfit(x, y_ei, 1)\n",
    "m1, b1 = np.polyfit(x, pymc3, 1)\n",
    "a,b,c = np.polyfit(x, y_psi, 2)\n",
    "\n",
    "\n",
    "axs[0].plot(x, a*x**2+b*x+c, color='orange', label='Regression line PSI')\n",
    "axs[0].plot(x, m*x+b,color= 'tab:blue', label='Regression line Privug exact')\n",
    "axs[0].plot(x, m1*x+b1,color= 'tab:green', label='Regression line Privug MCMC')\n",
    "\n",
    "axs[0].legend()\n",
    "\n",
    "for ax in axs.flat:\n",
    "    ax.set(xlabel='Number variables', ylabel='Seconds')\n",
    "\n",
    "fig.tight_layout()\n",
    "plt.show()"
   ]
  }
 ],
 "metadata": {
  "kernelspec": {
   "display_name": "pymc3",
   "language": "python",
   "name": "pymc3"
  },
  "language_info": {
   "codemirror_mode": {
    "name": "ipython",
    "version": 3
   },
   "file_extension": ".py",
   "mimetype": "text/x-python",
   "name": "python",
   "nbconvert_exporter": "python",
   "pygments_lexer": "ipython3",
   "version": "3.10.8"
  }
 },
 "nbformat": 4,
 "nbformat_minor": 5
}
