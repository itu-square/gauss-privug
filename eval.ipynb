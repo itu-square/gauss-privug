{
 "cells": [
  {
   "cell_type": "code",
   "execution_count": null,
   "id": "eb9bc25e-387f-4a38-aaac-d44b2339a950",
   "metadata": {},
   "outputs": [],
   "source": [
    "#general imports\n",
    "import numpy as np\n",
    "import arviz as az\n",
    "from matplotlib import pyplot as plt\n",
    "import src as exact_inference"
   ]
  },
  {
   "cell_type": "code",
   "execution_count": null,
   "id": "c05aeffb-e2ad-4c14-a7c0-2ae41914d7ad",
   "metadata": {},
   "outputs": [],
   "source": [
    "############################# \n",
    "#######  Scalability\n",
    "#######################"
   ]
  },
  {
   "cell_type": "code",
   "execution_count": null,
   "id": "00ba15a1-7cbc-4691-a2f7-ab4723d0abaf",
   "metadata": {},
   "outputs": [],
   "source": [
    "program: List[exact_inference.Statement] = exact_inference.parse(\"eval_scale.py\")\n",
    "posterior_marginal: exact_inference.distribution = exact_inference.evaluate(program)"
   ]
  },
  {
   "cell_type": "code",
   "execution_count": null,
   "id": "db16c570-9cf4-4ae1-a452-35c7e90a5ec9",
   "metadata": {},
   "outputs": [],
   "source": [
    "############################# \n",
    "#######  DP Example \n",
    "#######################"
   ]
  },
  {
   "cell_type": "code",
   "execution_count": null,
   "id": "f0fc4339-a3bd-4a1b-9fb8-e931e97afe01",
   "metadata": {},
   "outputs": [],
   "source": [
    "program: List[exact_inference.Statement] = exact_inference.parse(\"eval_dp.py\")"
   ]
  },
  {
   "cell_type": "code",
   "execution_count": null,
   "id": "5a34b273-df48-42e1-8886-25c33f666f2c",
   "metadata": {},
   "outputs": [],
   "source": [
    "posterior_marginal: exact_inference.distribution = exact_inference.evaluate(program)"
   ]
  },
  {
   "cell_type": "code",
   "execution_count": null,
   "id": "fcc36c19-660f-419e-8d9a-a545aeae7333",
   "metadata": {},
   "outputs": [],
   "source": [
    "program: List[exact_inference.Statement] = exact_inference.parse(\"eval2_dp.py\")"
   ]
  },
  {
   "cell_type": "code",
   "execution_count": null,
   "id": "160ca363-50a1-4ba5-b36e-1a4e4c3aeffd",
   "metadata": {},
   "outputs": [],
   "source": [
    "posterior_marginal: exact_inference.distribution = exact_inference.evaluate(program)"
   ]
  },
  {
   "cell_type": "code",
   "execution_count": null,
   "id": "cf8d5431-dcd4-4d2e-a2a9-80d87e427d86",
   "metadata": {},
   "outputs": [],
   "source": [
    "program: List[exact_inference.Statement] = exact_inference.parse(\"eval3_dp.py\")"
   ]
  },
  {
   "cell_type": "code",
   "execution_count": null,
   "id": "266da5e5-2508-474e-917c-0f6978e01523",
   "metadata": {},
   "outputs": [],
   "source": [
    "posterior_marginal: exact_inference.distribution = exact_inference.evaluate(program)"
   ]
  },
  {
   "cell_type": "code",
   "execution_count": null,
   "id": "d6088a7a-cc2a-4373-8a08-e203d16e75ed",
   "metadata": {},
   "outputs": [],
   "source": [
    "############################# \n",
    "#######  Public statistics \n",
    "#######################"
   ]
  },
  {
   "cell_type": "code",
   "execution_count": null,
   "id": "370694cb-f1f0-49fc-b70f-fd8b346bcbbc",
   "metadata": {},
   "outputs": [],
   "source": [
    "program: List[exact_inference.Statement] = exact_inference.parse(\"eval.py\")"
   ]
  },
  {
   "cell_type": "code",
   "execution_count": null,
   "id": "e1afb0f2-9593-4d81-8261-16c67e231aca",
   "metadata": {},
   "outputs": [],
   "source": [
    "posterior_marginal: exact_inference.distribution = exact_inference.evaluate(program)"
   ]
  },
  {
   "cell_type": "code",
   "execution_count": null,
   "id": "fec511b6-f65b-4842-a2b4-616446fe80f3",
   "metadata": {},
   "outputs": [],
   "source": [
    "program: List[exact_inference.Statement] = exact_inference.parse(\"eval2.py\")"
   ]
  },
  {
   "cell_type": "code",
   "execution_count": null,
   "id": "f61513b2-86a8-4406-bc3f-1d2ddea9976c",
   "metadata": {
    "tags": []
   },
   "outputs": [],
   "source": [
    "posterior_marginal: exact_inference.distribution = exact_inference.evaluate(program)"
   ]
  },
  {
   "cell_type": "code",
   "execution_count": null,
   "id": "b82503f5-605d-43fd-85c7-9cd7f9732031",
   "metadata": {},
   "outputs": [],
   "source": [
    "program: List[exact_inference.Statement] = exact_inference.parse(\"eval3.py\")"
   ]
  },
  {
   "cell_type": "code",
   "execution_count": null,
   "id": "5f45f3d9-19dd-4839-b922-9ba72c2027c3",
   "metadata": {},
   "outputs": [],
   "source": [
    "posterior_marginal: exact_inference.distribution = exact_inference.evaluate(program)"
   ]
  }
 ],
 "metadata": {
  "kernelspec": {
   "display_name": "pymc3",
   "language": "python",
   "name": "pymc3"
  },
  "language_info": {
   "codemirror_mode": {
    "name": "ipython",
    "version": 3
   },
   "file_extension": ".py",
   "mimetype": "text/x-python",
   "name": "python",
   "nbconvert_exporter": "python",
   "pygments_lexer": "ipython3",
   "version": "3.10.8"
  }
 },
 "nbformat": 4,
 "nbformat_minor": 5
}
