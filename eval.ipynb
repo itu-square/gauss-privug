{
 "cells": [
  {
   "cell_type": "code",
   "execution_count": null,
   "id": "eb430e3c-ed1e-497d-a547-b5e513fc72cf",
   "metadata": {},
   "outputs": [],
   "source": [
    "# necessary python packages\n",
    "# !pip3 install numpy==1.24 arviz matplotlib astor tqdm numba pymc"
   ]
  },
  {
   "cell_type": "code",
   "execution_count": null,
   "id": "eb9bc25e-387f-4a38-aaac-d44b2339a950",
   "metadata": {},
   "outputs": [],
   "source": [
    "# general imports\n",
    "import time\n",
    "from typing import List\n",
    "import numpy as np\n",
    "import arviz as az\n",
    "from matplotlib import pyplot as plt\n",
    "from scipy.stats import norm\n",
    "import src as exact_inference"
   ]
  },
  {
   "cell_type": "markdown",
   "id": "eb966e99-90f5-477e-aa08-4b279109ce4b",
   "metadata": {},
   "source": [
    "# Case study\n",
    "\n",
    "We consider a data analyst that releases average statistics on population income for different age groups and genders. We consider a database of incomes for 40 individuals (in different ages and genders). We use the Privug method to quantify attacker knowledge regarding the income of first individual in the database. See accompaying paper for more information."
   ]
  },
  {
   "cell_type": "markdown",
   "id": "0f782990-1d67-44f5-8d3d-df3e397438a5",
   "metadata": {},
   "source": [
    "## Release of public statistics"
   ]
  },
  {
   "cell_type": "markdown",
   "id": "f738a29a-5799-41b5-995c-2d5c1fe71f15",
   "metadata": {},
   "source": [
    "The files `eval.py` (case 1), `eval2.py` (case 2) and `eval3.py` in the folder `case_study_files` contain the prior attacker knowledge for all individuals in the database, and the program to compute.\n",
    "\n",
    "The cell below shows how to use our novel exact Bayesian inference engine to compute the complete posterior distribution, i.e., the posterior attacker knowledge for all the individuals in the dataset."
   ]
  },
  {
   "cell_type": "code",
   "execution_count": null,
   "id": "d363aee3-4fba-4a25-818a-ba9ed3084285",
   "metadata": {},
   "outputs": [],
   "source": [
    "posterior_case_1 = exact_inference.infer(\"case_study_files/eval.py\")\n",
    "posterior_case_2 = exact_inference.infer(\"case_study_files/eval2.py\")\n",
    "posterior_case_3 = exact_inference.infer(\"case_study_files/eval3.py\")"
   ]
  },
  {
   "cell_type": "markdown",
   "id": "da2b299e-3d71-434c-bcaf-9a87a45ea4d8",
   "metadata": {},
   "source": [
    "The cell below stores the information about the first individual of the database from the posterior distribution."
   ]
  },
  {
   "cell_type": "code",
   "execution_count": null,
   "id": "b38914fb-d8e6-48a4-bed1-f097bcf7b40a",
   "metadata": {},
   "outputs": [],
   "source": [
    "prior_mean_male_21_30 = 480_000\n",
    "prior_variance_male_21_30 = 100\n",
    "\n",
    "posterior_mean_male_21_30_case_1 = posterior_case_1[0][0]\n",
    "posterior_variance_male_21_30_case_1 = posterior_case_1[1][0,0]\n",
    "\n",
    "posterior_mean_male_21_30_case_2 = posterior_case_2[0][0]\n",
    "posterior_variance_male_21_30_case_2 = posterior_case_2[1][0,0]\n",
    "\n",
    "posterior_mean_male_21_30_case_3 = posterior_case_3[0][0]\n",
    "posterior_variance_male_21_30_case_3 = posterior_case_3[1][0,0]"
   ]
  },
  {
   "cell_type": "markdown",
   "id": "44670d95-a239-4026-84ae-33f0f802bdc2",
   "metadata": {},
   "source": [
    "The cell below computes the left side of Figure 3 in the accompying paper."
   ]
  },
  {
   "cell_type": "code",
   "execution_count": null,
   "id": "5702394b-e1ef-4406-9068-cc81a3faf73f",
   "metadata": {},
   "outputs": [],
   "source": [
    "scale = lambda x : x/10\n",
    "gen_y_case = lambda x, mean, variance : norm(loc=scale(mean),scale=variance).pdf(x)\n",
    "\n",
    "x = np.linspace(scale(prior_mean_male_21_30)-3*prior_variance_male_21_30,scale(505_000), 1000)\n",
    "\n",
    "y_prior  = gen_y_case(x,prior_mean_male_21_30,prior_variance_male_21_30)\n",
    "y_case_1 = gen_y_case(x,posterior_mean_male_21_30_case_1,posterior_variance_male_21_30_case_1)\n",
    "y_case_2 = gen_y_case(x,posterior_mean_male_21_30_case_2,posterior_variance_male_21_30_case_2)\n",
    "y_case_3 = gen_y_case(x,posterior_mean_male_21_30_case_3,posterior_variance_male_21_30_case_3)\n",
    "\n",
    "fig, axs = plt.subplots(1, 1, figsize=(5, 3))\n",
    "\n",
    "axs.plot(x,y_prior,  label='Prior')\n",
    "axs.plot(x,y_case_1, label='Case 1')\n",
    "axs.plot(x,y_case_2, label='Case 2')\n",
    "axs.plot(x,y_case_3, label='Case 3')\n",
    "axs.axvline(x = scale(500_000), color = 'purple', label= 'True income')\n",
    "axs.legend();"
   ]
  },
  {
   "cell_type": "markdown",
   "id": "ec78676c-ce57-4400-948f-7d760e0cf8df",
   "metadata": {},
   "source": [
    "## Release of public statistics with differential privacy"
   ]
  },
  {
   "cell_type": "markdown",
   "id": "7ab79a48-38c5-4303-a307-74608dcea49a",
   "metadata": {},
   "source": [
    "Now we turn our attention to the second part of our case study. The use of the Gaussian differential privacy mechanism to enhance individual's privacy. The files `eval_dp.py` (case 1), `eval2_dp.py` (case 2) and `eval3_dp.py` in the folder `case_study_files` contain the prior attacker knowledge for all individuals in the database, and the program to compute.\n",
    "\n",
    "The cell below shows how to use our novel exact Bayesian inference engine to compute the complete posterior distribution, i.e., the posterior attacker knowledge for all the individuals in the dataset."
   ]
  },
  {
   "cell_type": "code",
   "execution_count": null,
   "id": "2fd5d44b-0483-4027-82b1-36d58e02fcec",
   "metadata": {},
   "outputs": [],
   "source": [
    "posterior_case_1_dp = exact_inference.infer(\"case_study_files/eval_dp.py\")\n",
    "posterior_case_2_dp = exact_inference.infer(\"case_study_files/eval2_dp.py\")\n",
    "posterior_case_3_dp = exact_inference.infer(\"case_study_files/eval3_dp.py\")"
   ]
  },
  {
   "cell_type": "markdown",
   "id": "5e323ccb-ff20-4a74-be9c-e82569d17256",
   "metadata": {},
   "source": [
    "The cell below stores the information about the first individual of the database from the posterior distribution."
   ]
  },
  {
   "cell_type": "code",
   "execution_count": null,
   "id": "c3a473df-2e76-4313-9b8b-49c1577b4221",
   "metadata": {},
   "outputs": [],
   "source": [
    "posterior_mean_male_21_30_case_1_dp = posterior_case_1_dp[0][0]\n",
    "posterior_variance_male_21_30_case_1_dp = posterior_case_1_dp[1][0,0]\n",
    "\n",
    "posterior_mean_male_21_30_case_2_dp = posterior_case_2_dp[0][0]\n",
    "posterior_variance_male_21_30_case_2_dp = posterior_case_2_dp[1][0,0]\n",
    "\n",
    "posterior_mean_male_21_30_case_3_dp = posterior_case_3_dp[0][0]\n",
    "posterior_variance_male_21_30_case_3_dp = posterior_case_3_dp[1][0,0]"
   ]
  },
  {
   "cell_type": "markdown",
   "id": "b42fdaa4-e359-4667-a0c3-e5d1930dbf76",
   "metadata": {},
   "source": [
    "The cell below computes the left side of Figure 3 in the accompying paper."
   ]
  },
  {
   "cell_type": "code",
   "execution_count": null,
   "id": "1f571fba-8472-47cf-8ef4-97d07897be8e",
   "metadata": {},
   "outputs": [],
   "source": [
    "y_case_1_dp = gen_y_case(x,posterior_mean_male_21_30_case_1_dp,posterior_variance_male_21_30_case_1_dp)\n",
    "y_case_2_dp = gen_y_case(x,posterior_mean_male_21_30_case_2_dp,posterior_variance_male_21_30_case_2_dp)\n",
    "y_case_3_dp = gen_y_case(x,posterior_mean_male_21_30_case_3_dp,posterior_variance_male_21_30_case_3_dp)\n",
    "\n",
    "fig, axs = plt.subplots(1, 1, figsize=(5, 3))\n",
    "\n",
    "axs.plot(x,y_prior,  label='Prior')\n",
    "axs.plot(x,y_case_1_dp, label='Case 1 DP')\n",
    "axs.plot(x,y_case_2_dp, label='Case 2 DP')\n",
    "axs.plot(x,y_case_3_dp, label='Case 3 DP')\n",
    "axs.axvline(x = scale(500_000), color = 'purple', label= 'True income')\n",
    "axs.legend();"
   ]
  },
  {
   "cell_type": "markdown",
   "id": "9e487ed8-4f91-472f-8e5a-e5d6a46a705f",
   "metadata": {},
   "source": [
    "# Scalability"
   ]
  },
  {
   "cell_type": "markdown",
   "id": "ba541b2e-5da9-41a4-a399-c097fb0d7210",
   "metadata": {},
   "source": [
    "In this section, we perform the scalability evaluation in two synthetic benchmark programs.  As the scalability of Bayesian inference engines mainly depends on the number of random variables, we consider two synthetic benchmark programs with increasing number of variables.\n",
    "\n",
    "The folder `scalability_files` contains the programs to evaluate. They are templates that are instantiated with to increase the number of variables that the program uses."
   ]
  },
  {
   "cell_type": "markdown",
   "id": "ddc29b0c-bd3f-490b-a3da-3e9a6fe44248",
   "metadata": {},
   "source": [
    "## Synthetic program 1\n",
    "\n",
    "The first benchmark computes the a sum over an increasing number of variables $O = \\sum_i X_i$. We choose this benchmark as it was originally used to measure the scalability of Privug [[1]](https://arxiv.org/abs/2011.08742). We compare the scalability of our engine to Privug using the NUTS sampler and the exact inference engine Psi. The goal of the benchmark is to observe the scalability of the different methods as the number of random variables in the program increases.\n",
    "\n",
    "### Details of the Privug MCMC setting\n",
    "\n",
    "We instruct NUTS to draw 10000 samples in 2 chains—it was shown that this number of samples produces an accurate posterior in this benchmark [[1]](https://arxiv.org/abs/2011.08742). The program is hardcoded as PyMC model in the function `def time_privug_nuts(size)` in the `utils/eval.py`.\n",
    "\n",
    "### Details of the Psi setting\n",
    "\n",
    "The program `eval_psi_scale.psi.template` uses arrays to first create all the random variables that the program uses and the perform the summation. This is because Psi differentiates between `:=` (introduces a new random variable) and `=` (replaces an existing random variable). If we implement the Psi program using `=` then the program will contain only 1 random variable, and we would not be testing the scalability of Psi as the number of random variables increases.  The Psi program using only one random variable with `=` would be faster than our inference engine－although it would contain strictly less information as it would miss the other random variables with the attacker knowledge of other individuals. This information is often needed when computing quantitative information flow metrics.\n",
    "\n",
    "To execute this part of the evaluation you must make sure that you have installed the [Psi solver](https://psisolver.org/)."
   ]
  },
  {
   "cell_type": "markdown",
   "id": "78688410-dd0b-43a6-b7b0-6e9b932d81e8",
   "metadata": {},
   "source": [
    "First we import the utilities for evaluation"
   ]
  },
  {
   "cell_type": "code",
   "execution_count": null,
   "id": "693e4d06-87a0-4dc4-89c8-c439d54e934c",
   "metadata": {},
   "outputs": [],
   "source": [
    "# Utilities for running the scalability evaluation\n",
    "from utils.eval import *"
   ]
  },
  {
   "cell_type": "markdown",
   "id": "6aaf0e8e-de1e-4931-90cf-4c5be4523c09",
   "metadata": {},
   "source": [
    "Here we define an array with the number of variables that we will evaluate."
   ]
  },
  {
   "cell_type": "code",
   "execution_count": null,
   "id": "6732a4cc-b020-4264-9c94-129dde206930",
   "metadata": {
    "editable": true,
    "slideshow": {
     "slide_type": ""
    },
    "tags": []
   },
   "outputs": [],
   "source": [
    "NUM_VARS = [100, 200, 300, 400, 500, 600, 700]"
   ]
  },
  {
   "cell_type": "markdown",
   "id": "8ac40ab9-d806-470f-bc0f-19bce00f9c9a",
   "metadata": {},
   "source": [
    "Now we compute the running time for all methods."
   ]
  },
  {
   "cell_type": "code",
   "execution_count": null,
   "id": "04237113-59cf-4510-9bc3-4a8eb2a3400a",
   "metadata": {},
   "outputs": [],
   "source": [
    "times_gauss       = [time_gauss(size,SYNTH1_TEMPLATE_GAUSS) for size in NUM_VARS]\n",
    "times_psi         = [time_psi(size,SYNTH1_TEMPLATE_PSI)     for size in NUM_VARS]\n",
    "times_privug_nuts = [time_privug_nuts(size)                 for size in NUM_VARS]"
   ]
  },
  {
   "cell_type": "markdown",
   "id": "6c272ec3-a4fb-4197-9f8f-a6f01c202101",
   "metadata": {},
   "source": [
    "We generate a plot comparing the running times. It corresponds Figure 4 (left) in the accompanying paper."
   ]
  },
  {
   "cell_type": "code",
   "execution_count": null,
   "id": "ac7432ec-321a-4686-93eb-2be3d7c0c31d",
   "metadata": {},
   "outputs": [],
   "source": [
    "fig, axs = plt.subplots(1, 1, figsize=(7,4))\n",
    "axs.plot(NUM_VARS,times_gauss,'-o',label='Privug exact')\n",
    "axs.plot(NUM_VARS,times_privug_nuts,'-o',label='Privug NUTS')\n",
    "axs.plot(NUM_VARS,times_psi,'-o',label='PSI')\n",
    "axs.legend();"
   ]
  },
  {
   "cell_type": "markdown",
   "id": "4cfb0c13-bfb5-4f97-899d-c74018037525",
   "metadata": {},
   "source": [
    "### Further scalability of our engine"
   ]
  },
  {
   "cell_type": "markdown",
   "id": "af029e00-7b06-45a8-a4cf-df2816d53481",
   "metadata": {},
   "source": [
    "Now we check the scalability for larger number of random variables. We do not include the other methods as they already showed lower scalability in the previous measurements."
   ]
  },
  {
   "cell_type": "code",
   "execution_count": null,
   "id": "8ae5a488-d7d7-4336-b42f-4437f391bd65",
   "metadata": {},
   "outputs": [],
   "source": [
    "NUM_VARS_2 = [1000, 3000, 5000, 7000, 10000, 20000, 30000]"
   ]
  },
  {
   "cell_type": "markdown",
   "id": "c2b1ab4f-1c90-499f-8fa8-89606ba0080c",
   "metadata": {},
   "source": [
    "Now we compute the running times."
   ]
  },
  {
   "cell_type": "code",
   "execution_count": null,
   "id": "7b8075be-04d8-45e2-954b-20587c5d8212",
   "metadata": {},
   "outputs": [],
   "source": [
    "times_gauss_2 = [time_gauss(size,SYNTH1_TEMPLATE_GAUSS) for size in NUM_VARS_2]"
   ]
  },
  {
   "cell_type": "markdown",
   "id": "66d478a6-8df5-46fe-a8e8-c8a7b90ef45f",
   "metadata": {},
   "source": [
    "We generate a plot showing the running times. It corresponds Figure 4 (middle) in the accompanying paper."
   ]
  },
  {
   "cell_type": "code",
   "execution_count": null,
   "id": "39e066a1-f0b2-4511-86e3-963ecad8e4e1",
   "metadata": {},
   "outputs": [],
   "source": [
    "fig, axs = plt.subplots(1, 1, figsize=(7,4))\n",
    "axs.plot(NUM_VARS_2,times_gauss_2,'-o',label='Privug exact')\n",
    "axs.legend();"
   ]
  },
  {
   "cell_type": "markdown",
   "id": "03ffe430-4280-4e7c-a053-33f257f04202",
   "metadata": {},
   "source": [
    "## Scalability synthetic program 2 (with condition)\n",
    "\n",
    "The second benchmark computes the same sum as above but it also conditions the outuput: $O = \\sum_i X_i \\texttt{; condition}(O,c)$. We choose this benchmark to study scalability in the same setting as our case study."
   ]
  },
  {
   "cell_type": "markdown",
   "id": "420b26dd-3c15-4206-8068-e80ec4c03495",
   "metadata": {},
   "source": [
    "Here we define an array with the number of variables that we will evaluate."
   ]
  },
  {
   "cell_type": "code",
   "execution_count": null,
   "id": "f1eeef67-e5a5-420c-9e14-a61aaac95049",
   "metadata": {},
   "outputs": [],
   "source": [
    "NUM_VARS_3 = NUM_VARS+[1000, 2000, 3000, 4000, 5000]"
   ]
  },
  {
   "cell_type": "markdown",
   "id": "c06a57a4-1eaa-49eb-8351-b6895fe74214",
   "metadata": {},
   "source": [
    "Now we compute the running times."
   ]
  },
  {
   "cell_type": "code",
   "execution_count": null,
   "id": "8a919bea-c2ca-4849-b8ce-3aa63fd7c448",
   "metadata": {},
   "outputs": [],
   "source": [
    "times_gauss_3 = [time_gauss(size,SYNTH2_TEMPLATE_GAUSS) for size in NUM_VARS_3]"
   ]
  },
  {
   "cell_type": "markdown",
   "id": "a78b08eb-3949-4404-9160-a978aed18705",
   "metadata": {},
   "source": [
    "We generate a plot showing the running times. It corresponds Figure 4 (right) in the accompanying paper."
   ]
  },
  {
   "cell_type": "code",
   "execution_count": null,
   "id": "c53f4859-d1fe-4f7b-b8c3-2a092b77e3e1",
   "metadata": {},
   "outputs": [],
   "source": [
    "fig, axs = plt.subplots(1, 1, figsize=(7,4))\n",
    "axs.plot(NUM_VARS_3,times_gauss_3,'-o',label='Privug exact')\n",
    "axs.legend();"
   ]
  }
 ],
 "metadata": {
  "kernelspec": {
   "display_name": "Python [conda env:gauss_privug] *",
   "language": "python",
   "name": "conda-env-gauss_privug-py"
  },
  "language_info": {
   "codemirror_mode": {
    "name": "ipython",
    "version": 3
   },
   "file_extension": ".py",
   "mimetype": "text/x-python",
   "name": "python",
   "nbconvert_exporter": "python",
   "pygments_lexer": "ipython3",
   "version": "3.11.3"
  }
 },
 "nbformat": 4,
 "nbformat_minor": 5
}
